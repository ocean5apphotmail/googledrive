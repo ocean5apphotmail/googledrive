{
  "nbformat": 4,
  "nbformat_minor": 0,
  "metadata": {
    "colab": {
      "name": "神经网络分类任务.ipynb",
      "provenance": [],
      "collapsed_sections": [],
      "mount_file_id": "1RlzYHUMGCzultrkhaFkgcTvGUyfRlBaP",
      "authorship_tag": "ABX9TyPog/0TjStEYWG051CvexCe",
      "include_colab_link": true
    },
    "kernelspec": {
      "name": "python3",
      "display_name": "Python 3"
    },
    "language_info": {
      "name": "python"
    }
  },
  "cells": [
    {
      "cell_type": "markdown",
      "metadata": {
        "id": "view-in-github",
        "colab_type": "text"
      },
      "source": [
        "<a href=\"https://colab.research.google.com/github/ocean5apphotmail/googledrive/blob/main/%E7%A5%9E%E7%BB%8F%E7%BD%91%E7%BB%9C%E5%88%86%E7%B1%BB%E4%BB%BB%E5%8A%A1.ipynb\" target=\"_parent\"><img src=\"https://colab.research.google.com/assets/colab-badge.svg\" alt=\"Open In Colab\"/></a>"
      ]
    },
    {
      "cell_type": "code",
      "execution_count": null,
      "metadata": {
        "id": "_OyxFkG7qOzC"
      },
      "outputs": [],
      "source": [
        ""
      ]
    },
    {
      "cell_type": "markdown",
      "source": [
        "### Mnist分类任务：\n",
        "\n",
        "- 网络基本构建与训练方法，常用函数解析\n",
        "\n",
        "- torch.nn.functional模块\n",
        "\n",
        "- nn.Module模块\n"
      ],
      "metadata": {
        "id": "glUQxg5yHvS3"
      }
    },
    {
      "cell_type": "markdown",
      "source": [
        "### 读取Mnist数据集\n",
        "- 会自动进行下载"
      ],
      "metadata": {
        "id": "Bb-aOz5JHzOL"
      }
    },
    {
      "cell_type": "code",
      "source": [
        "%matplotlib inline"
      ],
      "metadata": {
        "id": "6ue_DWDBH0tr"
      },
      "execution_count": null,
      "outputs": []
    },
    {
      "cell_type": "code",
      "source": [
        "from google.colab import drive\n",
        "drive.mount('/content/drive')"
      ],
      "metadata": {
        "colab": {
          "base_uri": "https://localhost:8080/"
        },
        "id": "9BJPDlYiQuc-",
        "outputId": "a3476951-1228-4c79-e44e-0d44148419a5"
      },
      "execution_count": null,
      "outputs": [
        {
          "output_type": "stream",
          "name": "stdout",
          "text": [
            "Drive already mounted at /content/drive; to attempt to forcibly remount, call drive.mount(\"/content/drive\", force_remount=True).\n"
          ]
        }
      ]
    },
    {
      "cell_type": "code",
      "source": [
        "from pathlib import Path\n",
        "import requests\n",
        "\n",
        "DATA_PATH = Path(\"/content/drive/MyDrive/PyTorch框架实战的资料/第二章：神经网络实战分类与回归任务/神经网络实战分类与回归任务/data/\")\n",
        "PATH = DATA_PATH / \"mnist\"\n",
        "\n",
        "PATH.mkdir(parents=True, exist_ok=True)\n",
        "\n",
        "URL = \"http://deeplearning.net/data/mnist/\"\n",
        "FILENAME = \"mnist.pkl.gz\"\n",
        "\n",
        "if not (PATH / FILENAME).exists():\n",
        "        content = requests.get(URL + FILENAME).content\n",
        "        (PATH / FILENAME).open(\"wb\").write(content)\n"
      ],
      "metadata": {
        "id": "52zhljqDH3aJ"
      },
      "execution_count": null,
      "outputs": []
    },
    {
      "cell_type": "code",
      "source": [
        "import pickle\n",
        "import gzip\n",
        "\n",
        "with gzip.open((PATH / FILENAME).as_posix(), \"rb\") as f:\n",
        "        ((x_train, y_train), (x_valid, y_valid), _) = pickle.load(f, encoding=\"latin-1\")"
      ],
      "metadata": {
        "id": "zN1hh0-Lh_W0"
      },
      "execution_count": null,
      "outputs": []
    },
    {
      "cell_type": "markdown",
      "source": [
        "784是mnist数据集每个样本的像素点个数"
      ],
      "metadata": {
        "id": "j_EPWLg2inLm"
      }
    },
    {
      "cell_type": "code",
      "source": [
        "from matplotlib import pyplot\n",
        "import numpy as np\n",
        "\n",
        "pyplot.imshow(x_train[0].reshape((28, 28)), cmap=\"gray\")\n",
        "print(x_train.shape)"
      ],
      "metadata": {
        "colab": {
          "base_uri": "https://localhost:8080/",
          "height": 283
        },
        "id": "CD3p4U0AioGn",
        "outputId": "d242f7d0-7ed3-4817-e7ec-756043b8ed75"
      },
      "execution_count": null,
      "outputs": [
        {
          "output_type": "stream",
          "name": "stdout",
          "text": [
            "(50000, 784)\n"
          ]
        },
        {
          "output_type": "display_data",
          "data": {
            "image/png": "[encoded data removed]",
            "text/plain": [
              "<Figure size 432x288 with 1 Axes>"
            ]
          },
          "metadata": {
            "needs_background": "light"
          }
        }
      ]
    },
    {
      "cell_type": "code",
      "source": [
        "<img src=\"./content/drive/MyDrive/PyTorch框架实战的资料/第二章：神经网络实战分类与回归任务/神经网络实战分类与回归任务/img/4.png\" alt=\"FAO\" width=\"790\">"
      ],
      "metadata": {
        "colab": {
          "base_uri": "https://localhost:8080/",
          "height": 137
        },
        "id": "_i6XndOViv_C",
        "outputId": "4f9155a4-a4d9-4520-83eb-0f91f8839aba"
      },
      "execution_count": null,
      "outputs": [
        {
          "output_type": "error",
          "ename": "SyntaxError",
          "evalue": "ignored",
          "traceback": [
            "\u001b[0;36m  File \u001b[0;32m\"<ipython-input-23-afc6669009f2>\"\u001b[0;36m, line \u001b[0;32m1\u001b[0m\n\u001b[0;31m    <img src=\"./content/drive/MyDrive/PyTorch框架实战的资料/第二章：神经网络实战分类与回归任务/神经网络实战分类与回归任务/img/4.png\" alt=\"FAO\" width=\"790\">\u001b[0m\n\u001b[0m    ^\u001b[0m\n\u001b[0;31mSyntaxError\u001b[0m\u001b[0;31m:\u001b[0m invalid syntax\n"
          ]
        }
      ]
    },
    {
      "cell_type": "code",
      "source": [
        "<img src=\"/content/drive/MyDrive/PyTorch框架实战的资料/第二章：神经网络实战分类与回归任务/神经网络实战分类与回归任务/img/4.png\" alt=\"FAO\" width=\"790\">"
      ],
      "metadata": {
        "colab": {
          "base_uri": "https://localhost:8080/",
          "height": 137
        },
        "id": "_DLsO0Pmk3qO",
        "outputId": "636526ff-795b-4ec7-a282-e1e63a32cdbf"
      },
      "execution_count": null,
      "outputs": [
        {
          "output_type": "error",
          "ename": "SyntaxError",
          "evalue": "ignored",
          "traceback": [
            "\u001b[0;36m  File \u001b[0;32m\"<ipython-input-9-e118770b5f3b>\"\u001b[0;36m, line \u001b[0;32m1\u001b[0m\n\u001b[0;31m    <img src=\"/content/drive/MyDrive/PyTorch框架实战的资料/第二章：神经网络实战分类与回归任务/神经网络实战分类与回归任务/img/4.png\" alt=\"FAO\" width=\"790\">\u001b[0m\n\u001b[0m    ^\u001b[0m\n\u001b[0;31mSyntaxError\u001b[0m\u001b[0;31m:\u001b[0m invalid syntax\n"
          ]
        }
      ]
    },
    {
      "cell_type": "markdown",
      "source": [
        "注意数据需转换成tensor才能参与后续建模训练"
      ],
      "metadata": {
        "id": "ngIZFst_k7hU"
      }
    },
    {
      "cell_type": "code",
      "source": [
        "import torch\n",
        "\n",
        "x_train, y_train, x_valid, y_valid = map(\n",
        "    torch.tensor, (x_train, y_train, x_valid, y_valid)\n",
        ")\n",
        "n, c = x_train.shape\n",
        "x_train, x_train.shape, y_train.min(), y_train.max()\n",
        "print(x_train, y_train)\n",
        "print(x_train.shape)\n",
        "print(y_train.min(), y_train.max())"
      ],
      "metadata": {
        "colab": {
          "base_uri": "https://localhost:8080/"
        },
        "id": "RtRgWjo2k-A5",
        "outputId": "d4b78398-66c2-42b8-a467-eec265d105c0"
      },
      "execution_count": null,
      "outputs": [
        {
          "output_type": "stream",
          "name": "stdout",
          "text": [
            "tensor([[0., 0., 0.,  ..., 0., 0., 0.],\n",
            "        [0., 0., 0.,  ..., 0., 0., 0.],\n",
            "        [0., 0., 0.,  ..., 0., 0., 0.],\n",
            "        ...,\n",
            "        [0., 0., 0.,  ..., 0., 0., 0.],\n",
            "        [0., 0., 0.,  ..., 0., 0., 0.],\n",
            "        [0., 0., 0.,  ..., 0., 0., 0.]]) tensor([5, 0, 4,  ..., 8, 4, 8])\n",
            "torch.Size([50000, 784])\n",
            "tensor(0) tensor(9)\n"
          ]
        }
      ]
    },
    {
      "cell_type": "markdown",
      "source": [
        "### torch.nn.functional 很多层和函数在这里都会见到\n",
        "\n",
        "torch.nn.functional中有很多功能，后续会常用的。那什么时候使用nn.Module，什么时候使用nn.functional呢？一般情况下，如果模型有可学习的参数，最好用nn.Module，其他情况nn.functional相对更简单一些"
      ],
      "metadata": {
        "id": "z_atAAl-lI0m"
      }
    },
    {
      "cell_type": "code",
      "source": [
        "import torch.nn.functional as F\n",
        "\n",
        "loss_func = F.cross_entropy\n",
        "\n",
        "def model(xb):\n",
        "    return xb.mm(weights) + bias"
      ],
      "metadata": {
        "id": "wUnfhuz4lLjP"
      },
      "execution_count": null,
      "outputs": []
    },
    {
      "cell_type": "code",
      "source": [
        "bs = 64\n",
        "xb = x_train[0:bs]  # a mini-batch from x\n",
        "yb = y_train[0:bs]\n",
        "weights = torch.randn([784, 10], dtype = torch.float,  requires_grad = True) \n",
        "bs = 64\n",
        "bias = torch.zeros(10, requires_grad=True)\n",
        "\n",
        "print(loss_func(model(xb), yb))"
      ],
      "metadata": {
        "colab": {
          "base_uri": "https://localhost:8080/"
        },
        "id": "ck7iBi0TlOSa",
        "outputId": "6c0d7cab-5274-42b8-a856-a62e2f29ad2f"
      },
      "execution_count": null,
      "outputs": [
        {
          "output_type": "stream",
          "name": "stdout",
          "text": [
            "tensor(14.1973, grad_fn=<NllLossBackward0>)\n"
          ]
        }
      ]
    },
    {
      "cell_type": "markdown",
      "source": [
        "### 创建一个model来更简化代码"
      ],
      "metadata": {
        "id": "oIydYdzSlbfY"
      }
    },
    {
      "cell_type": "markdown",
      "source": [
        "- 必须继承nn.Module且在其构造函数中需调用nn.Module的构造函数\n",
        "- 无需写反向传播函数，nn.Module能够利用autograd自动实现反向传播\n",
        "- Module中的可学习参数可以通过named_parameters()或者parameters()返回迭代器"
      ],
      "metadata": {
        "id": "qkFQfSFnld5C"
      }
    },
    {
      "cell_type": "code",
      "source": [
        "from torch import nn\n",
        "\n",
        "class Mnist_NN(nn.Module):\n",
        "    def __init__(self):\n",
        "        super().__init__()\n",
        "        self.hidden1 = nn.Linear(784, 128)\n",
        "        self.hidden2 = nn.Linear(128, 256)\n",
        "        self.out  = nn.Linear(256, 10)\n",
        "\n",
        "    def forward(self, x):\n",
        "        x = F.relu(self.hidden1(x))\n",
        "        x = F.relu(self.hidden2(x))\n",
        "        x = self.out(x)\n",
        "        return x\n",
        "        "
      ],
      "metadata": {
        "id": "bWs1A2tploBW"
      },
      "execution_count": null,
      "outputs": []
    },
    {
      "cell_type": "code",
      "source": [
        "net = Mnist_NN()\n",
        "print(net)"
      ],
      "metadata": {
        "colab": {
          "base_uri": "https://localhost:8080/"
        },
        "id": "NLgDcOTxlqn1",
        "outputId": "821f32c4-ce19-415e-dd17-c3aa29fc0d4d"
      },
      "execution_count": null,
      "outputs": [
        {
          "output_type": "stream",
          "name": "stdout",
          "text": [
            "Mnist_NN(\n",
            "  (hidden1): Linear(in_features=784, out_features=128, bias=True)\n",
            "  (hidden2): Linear(in_features=128, out_features=256, bias=True)\n",
            "  (out): Linear(in_features=256, out_features=10, bias=True)\n",
            ")\n"
          ]
        }
      ]
    },
    {
      "cell_type": "markdown",
      "source": [
        "可以打印我们定义好名字里的权重和偏置项"
      ],
      "metadata": {
        "id": "m8y3uIf1lxkq"
      }
    },
    {
      "cell_type": "code",
      "source": [
        "for name, parameter in net.named_parameters():\n",
        "    print(name, parameter,parameter.size())"
      ],
      "metadata": {
        "colab": {
          "base_uri": "https://localhost:8080/"
        },
        "id": "uuZiXbA4mMAH",
        "outputId": "7feaba51-95c0-4d8f-e892-6761ce016a11"
      },
      "execution_count": null,
      "outputs": [
        {
          "output_type": "stream",
          "name": "stdout",
          "text": [
            "hidden1.weight Parameter containing:\n",
            "tensor([[ 0.0074, -0.0058,  0.0177,  ..., -0.0129, -0.0020, -0.0009],\n",
            "        [ 0.0264,  0.0122,  0.0149,  ...,  0.0021,  0.0341,  0.0042],\n",
            "        [ 0.0078,  0.0145,  0.0348,  ..., -0.0239, -0.0226, -0.0323],\n",
            "        ...,\n",
            "        [ 0.0160,  0.0250, -0.0323,  ..., -0.0297,  0.0303, -0.0209],\n",
            "        [ 0.0047,  0.0254,  0.0092,  ..., -0.0085, -0.0154, -0.0029],\n",
            "        [ 0.0190,  0.0272, -0.0166,  ...,  0.0250, -0.0024, -0.0354]],\n",
            "       requires_grad=True) torch.Size([128, 784])\n",
            "hidden1.bias Parameter containing:\n",
            "tensor([ 2.9578e-02, -1.9130e-02,  6.7737e-03, -8.5896e-03,  4.7614e-03,\n",
            "        -1.9045e-02,  3.2554e-02, -1.8163e-02, -2.4809e-02, -2.8927e-02,\n",
            "         1.3337e-02, -1.7811e-02,  1.9216e-02,  1.6912e-02, -1.7674e-02,\n",
            "        -1.7054e-02, -1.5411e-02,  2.2907e-02, -1.9960e-02, -2.0547e-02,\n",
            "        -2.7141e-02,  2.5162e-02,  2.9310e-02,  2.4204e-02, -7.7914e-03,\n",
            "        -1.6873e-02, -2.3360e-02, -3.2451e-02, -9.3955e-03,  3.4255e-02,\n",
            "         2.4331e-02,  5.2162e-03,  6.8236e-04,  2.1126e-02, -2.7241e-02,\n",
            "        -9.7120e-03,  1.5286e-02,  5.7902e-03, -2.9298e-02, -1.0430e-02,\n",
            "         3.4024e-02,  3.1263e-02,  2.4917e-02, -2.2400e-02,  2.0459e-02,\n",
            "        -1.0923e-03, -6.9654e-03,  3.0417e-02, -1.4248e-02,  1.7015e-02,\n",
            "        -3.0694e-02,  7.2267e-04,  7.4478e-03, -1.1730e-02,  1.3400e-02,\n",
            "         2.0585e-02, -3.2075e-02, -9.3619e-03, -2.1666e-02, -1.8135e-02,\n",
            "         7.6632e-03,  2.0024e-02, -2.3203e-02, -1.9332e-02, -2.6862e-02,\n",
            "         1.1836e-02, -3.2130e-02, -8.2843e-04,  3.0104e-02,  3.8663e-03,\n",
            "         7.8840e-03,  2.5789e-02, -3.0145e-02,  2.6588e-02,  2.8785e-02,\n",
            "        -3.6752e-04,  4.1180e-04, -2.4120e-02, -1.6235e-02,  1.9610e-02,\n",
            "        -9.9246e-05,  2.7208e-02,  2.6832e-02, -1.1656e-02,  9.8787e-03,\n",
            "         1.8817e-02,  2.3336e-02, -8.5859e-03,  2.3499e-02,  9.9587e-03,\n",
            "         1.9455e-03, -1.9486e-02,  4.6809e-04, -2.7859e-02, -1.1207e-02,\n",
            "        -5.6612e-04,  2.0563e-02, -2.5799e-02, -3.5249e-03,  7.3804e-03,\n",
            "        -1.7307e-02, -2.4579e-02,  2.7415e-02, -2.9677e-02,  2.5588e-02,\n",
            "         1.0742e-02, -3.9449e-03,  6.2840e-03,  2.6992e-02, -5.8860e-03,\n",
            "         1.9881e-02,  1.5491e-02, -9.8436e-03, -2.0335e-02, -1.8733e-02,\n",
            "        -7.6439e-03,  7.9763e-03,  2.2218e-02, -3.6034e-03,  3.5484e-03,\n",
            "         3.0400e-02, -3.1625e-02,  3.2038e-02,  1.6425e-02, -3.0126e-02,\n",
            "        -1.6592e-02, -1.2216e-02, -6.2596e-03], requires_grad=True) torch.Size([128])\n",
            "hidden2.weight Parameter containing:\n",
            "tensor([[ 0.0834,  0.0062,  0.0347,  ...,  0.0739,  0.0855, -0.0470],\n",
            "        [ 0.0267, -0.0810, -0.0343,  ..., -0.0047,  0.0705, -0.0413],\n",
            "        [ 0.0814,  0.0348,  0.0472,  ...,  0.0103,  0.0817, -0.0262],\n",
            "        ...,\n",
            "        [-0.0853, -0.0191,  0.0860,  ..., -0.0712,  0.0662, -0.0073],\n",
            "        [ 0.0017,  0.0858,  0.0735,  ..., -0.0824,  0.0700, -0.0842],\n",
            "        [-0.0841, -0.0516, -0.0840,  ..., -0.0078,  0.0184, -0.0421]],\n",
            "       requires_grad=True) torch.Size([256, 128])\n",
            "hidden2.bias Parameter containing:\n",
            "tensor([-0.0738, -0.0113, -0.0406,  0.0631, -0.0316,  0.0461, -0.0770, -0.0425,\n",
            "        -0.0801, -0.0229,  0.0743, -0.0007,  0.0080, -0.0376,  0.0351,  0.0684,\n",
            "        -0.0843, -0.0494,  0.0474,  0.0195, -0.0352, -0.0181, -0.0100,  0.0104,\n",
            "         0.0769,  0.0839,  0.0200,  0.0113, -0.0132, -0.0178, -0.0457,  0.0209,\n",
            "         0.0035, -0.0067, -0.0246, -0.0863, -0.0068, -0.0331, -0.0704,  0.0214,\n",
            "         0.0772,  0.0451, -0.0459, -0.0269,  0.0075,  0.0351,  0.0097, -0.0608,\n",
            "        -0.0201,  0.0230,  0.0217, -0.0239,  0.0730, -0.0814, -0.0614,  0.0140,\n",
            "         0.0416, -0.0768,  0.0448, -0.0718, -0.0264,  0.0577,  0.0132, -0.0031,\n",
            "         0.0346, -0.0674, -0.0593, -0.0472, -0.0376,  0.0504,  0.0062, -0.0297,\n",
            "        -0.0141,  0.0542,  0.0324, -0.0591, -0.0378, -0.0364, -0.0131,  0.0612,\n",
            "        -0.0558, -0.0057,  0.0209,  0.0710, -0.0317,  0.0777, -0.0684,  0.0326,\n",
            "        -0.0198,  0.0882, -0.0367, -0.0600,  0.0656,  0.0177,  0.0558,  0.0866,\n",
            "        -0.0029, -0.0111,  0.0294, -0.0522, -0.0271, -0.0775,  0.0830,  0.0180,\n",
            "        -0.0497,  0.0073,  0.0765, -0.0789, -0.0671, -0.0658,  0.0729,  0.0429,\n",
            "        -0.0537,  0.0061, -0.0249,  0.0103,  0.0451,  0.0229, -0.0804,  0.0805,\n",
            "        -0.0577, -0.0140,  0.0381, -0.0593,  0.0625,  0.0671,  0.0442, -0.0506,\n",
            "        -0.0355, -0.0585, -0.0644, -0.0685, -0.0492, -0.0594,  0.0049, -0.0868,\n",
            "        -0.0865, -0.0580,  0.0382,  0.0493,  0.0556, -0.0172, -0.0538, -0.0523,\n",
            "        -0.0224, -0.0683,  0.0658,  0.0239,  0.0119, -0.0575,  0.0256, -0.0759,\n",
            "         0.0042, -0.0194,  0.0280, -0.0470, -0.0837, -0.0691,  0.0487,  0.0630,\n",
            "        -0.0465,  0.0719,  0.0127,  0.0784, -0.0528, -0.0420,  0.0342, -0.0883,\n",
            "         0.0778, -0.0664,  0.0319,  0.0661, -0.0617,  0.0239,  0.0784, -0.0880,\n",
            "         0.0012,  0.0568,  0.0762, -0.0814, -0.0371,  0.0702, -0.0145,  0.0873,\n",
            "         0.0155, -0.0549,  0.0197, -0.0766,  0.0357, -0.0463, -0.0504,  0.0011,\n",
            "         0.0694, -0.0312,  0.0484, -0.0583,  0.0846, -0.0242, -0.0394, -0.0255,\n",
            "         0.0799,  0.0051, -0.0205,  0.0605,  0.0032,  0.0070, -0.0492,  0.0075,\n",
            "         0.0217,  0.0235, -0.0200,  0.0568, -0.0136, -0.0385,  0.0712, -0.0754,\n",
            "         0.0472, -0.0520,  0.0235,  0.0367,  0.0260,  0.0260,  0.0524, -0.0118,\n",
            "        -0.0024, -0.0112,  0.0299,  0.0455,  0.0070, -0.0503, -0.0343, -0.0168,\n",
            "        -0.0816,  0.0595,  0.0817,  0.0679,  0.0843,  0.0410,  0.0402,  0.0763,\n",
            "         0.0370,  0.0047,  0.0345, -0.0359, -0.0448, -0.0124, -0.0732,  0.0204,\n",
            "        -0.0486, -0.0353,  0.0293, -0.0117,  0.0735,  0.0537, -0.0547, -0.0136],\n",
            "       requires_grad=True) torch.Size([256])\n",
            "out.weight Parameter containing:\n",
            "tensor([[ 0.0543, -0.0621,  0.0278,  ...,  0.0128, -0.0439,  0.0596],\n",
            "        [-0.0236, -0.0281, -0.0250,  ..., -0.0088, -0.0449,  0.0610],\n",
            "        [ 0.0004,  0.0370,  0.0071,  ...,  0.0172, -0.0463, -0.0308],\n",
            "        ...,\n",
            "        [-0.0391,  0.0119, -0.0328,  ...,  0.0374,  0.0061,  0.0615],\n",
            "        [ 0.0312, -0.0019,  0.0238,  ..., -0.0552,  0.0423,  0.0082],\n",
            "        [-0.0300,  0.0571,  0.0101,  ..., -0.0094,  0.0004,  0.0165]],\n",
            "       requires_grad=True) torch.Size([10, 256])\n",
            "out.bias Parameter containing:\n",
            "tensor([ 0.0606,  0.0266, -0.0495,  0.0018,  0.0427, -0.0132,  0.0322, -0.0049,\n",
            "         0.0185, -0.0558], requires_grad=True) torch.Size([10])\n"
          ]
        }
      ]
    },
    {
      "cell_type": "markdown",
      "source": [
        "### 使用TensorDataset和DataLoader来简化"
      ],
      "metadata": {
        "id": "LIGVoElennXY"
      }
    },
    {
      "cell_type": "code",
      "source": [
        "from torch.utils.data import TensorDataset\n",
        "from torch.utils.data import DataLoader\n",
        "\n",
        "train_ds = TensorDataset(x_train, y_train)\n",
        "train_dl = DataLoader(train_ds, batch_size=bs, shuffle=True)\n",
        "\n",
        "valid_ds = TensorDataset(x_valid, y_valid)\n",
        "valid_dl = DataLoader(valid_ds, batch_size=bs * 2)"
      ],
      "metadata": {
        "id": "p6YzQc2qnrCC"
      },
      "execution_count": null,
      "outputs": []
    },
    {
      "cell_type": "code",
      "source": [
        "def get_data(train_ds, valid_ds, bs):\n",
        "    return (\n",
        "        DataLoader(train_ds, batch_size=bs, shuffle=True),\n",
        "        DataLoader(valid_ds, batch_size=bs * 2),\n",
        "    )"
      ],
      "metadata": {
        "id": "VbJhYgm-nuob"
      },
      "execution_count": null,
      "outputs": []
    },
    {
      "cell_type": "markdown",
      "source": [
        "- 一般在训练模型时加上model.train()，这样会正常使用Batch Normalization和 Dropout\n",
        "- 测试的时候一般选择model.eval()，这样就不会使用Batch Normalization和 Dropout"
      ],
      "metadata": {
        "id": "dv68hizqn0R1"
      }
    },
    {
      "cell_type": "code",
      "source": [
        "import numpy as np\n",
        "\n",
        "def fit(steps, model, loss_func, opt, train_dl, valid_dl):\n",
        "    for step in range(steps):\n",
        "        model.train()\n",
        "        for xb, yb in train_dl:\n",
        "            loss_batch(model, loss_func, xb, yb, opt)\n",
        "\n",
        "        model.eval()\n",
        "        with torch.no_grad():\n",
        "            losses, nums = zip(\n",
        "                *[loss_batch(model, loss_func, xb, yb) for xb, yb in valid_dl]\n",
        "            )\n",
        "        val_loss = np.sum(np.multiply(losses, nums)) / np.sum(nums)\n",
        "        print('当前step:'+str(step), '验证集损失：'+str(val_loss))"
      ],
      "metadata": {
        "id": "bBFJ9Yk7n2RS"
      },
      "execution_count": null,
      "outputs": []
    },
    {
      "cell_type": "code",
      "source": [
        "from torch import optim\n",
        "def get_model():\n",
        "    model = Mnist_NN()\n",
        "    return model, optim.SGD(model.parameters(), lr=0.001)"
      ],
      "metadata": {
        "id": "Qx3lsx2pn-Ry"
      },
      "execution_count": null,
      "outputs": []
    },
    {
      "cell_type": "code",
      "source": [
        "def loss_batch(model, loss_func, xb, yb, opt=None):\n",
        "    loss = loss_func(model(xb), yb)\n",
        "\n",
        "    if opt is not None:\n",
        "        loss.backward()\n",
        "        opt.step()\n",
        "        opt.zero_grad()\n",
        "\n",
        "    return loss.item(), len(xb)"
      ],
      "metadata": {
        "id": "VWI2J0mPoA6T"
      },
      "execution_count": null,
      "outputs": []
    },
    {
      "cell_type": "markdown",
      "source": [
        "### 三行搞定！"
      ],
      "metadata": {
        "id": "KQkhEf7QoJu8"
      }
    },
    {
      "cell_type": "code",
      "source": [
        "train_dl, valid_dl = get_data(train_ds, valid_ds, bs)\n",
        "model, opt = get_model()\n",
        "fit(25, model, loss_func, opt, train_dl, valid_dl)"
      ],
      "metadata": {
        "colab": {
          "base_uri": "https://localhost:8080/"
        },
        "id": "DVFWXulroMB-",
        "outputId": "c14c2cf1-ff8f-4cef-ae5d-ff9ca2c2189e"
      },
      "execution_count": null,
      "outputs": [
        {
          "output_type": "stream",
          "name": "stdout",
          "text": [
            "当前step:0 验证集损失：2.280729072570801\n",
            "当前step:1 验证集损失：2.2513272563934326\n",
            "当前step:2 验证集损失：2.208267482376099\n",
            "当前step:3 验证集损失：2.140430821228027\n",
            "当前step:4 验证集损失：2.0305326766967773\n",
            "当前step:5 验证集损失：1.8567247203826904\n",
            "当前step:6 验证集损失：1.614151693534851\n",
            "当前step:7 验证集损失：1.3473711465835572\n",
            "当前step:8 验证集损失：1.1164636247634887\n",
            "当前step:9 验证集损失：0.9429685171127319\n",
            "当前step:10 验证集损失：0.8178746192932129\n",
            "当前step:11 验证集损失：0.7268859283447265\n",
            "当前step:12 验证集损失：0.6578291007041931\n",
            "当前step:13 验证集损失：0.604813906955719\n",
            "当前step:14 验证集损失：0.5622031031608582\n",
            "当前step:15 验证集损失：0.5275872887134552\n",
            "当前step:16 验证集损失：0.4991207275867462\n",
            "当前step:17 验证集损失：0.47516186270713806\n",
            "当前step:18 验证集损失：0.4558758644580841\n",
            "当前step:19 验证集损失：0.4385730712890625\n",
            "当前step:20 验证集损失：0.42354336495399475\n",
            "当前step:21 验证集损失：0.4108560535430908\n",
            "当前step:22 验证集损失：0.3995968002796173\n",
            "当前step:23 验证集损失：0.390026313328743\n",
            "当前step:24 验证集损失：0.3813281128883362\n"
          ]
        }
      ]
    }
  ]
}