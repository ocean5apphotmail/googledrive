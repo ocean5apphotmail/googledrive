{
  "nbformat": 4,
  "nbformat_minor": 0,
  "metadata": {
    "colab": {
      "name": "neuralNetwork_from_scratch.ipynb",
      "provenance": [],
      "collapsed_sections": [],
      "mount_file_id": "1KiEQSt9DeFxG4o9aDnNjtgBmZkJDcn9k",
      "authorship_tag": "ABX9TyNLK+rgeyqxoCvU7XKuyxlm",
      "include_colab_link": true
    },
    "kernelspec": {
      "name": "python3",
      "display_name": "Python 3"
    },
    "language_info": {
      "name": "python"
    }
  },
  "cells": [
    {
      "cell_type": "markdown",
      "metadata": {
        "id": "view-in-github",
        "colab_type": "text"
      },
      "source": [
        "<a href=\"https://colab.research.google.com/github/ocean5apphotmail/googledrive/blob/main/neuralNetwork_from_scratch.ipynb\" target=\"_parent\"><img src=\"https://colab.research.google.com/assets/colab-badge.svg\" alt=\"Open In Colab\"/></a>"
      ]
    },
    {
      "cell_type": "markdown",
      "source": [
        "# 手撸神经网络"
      ],
      "metadata": {
        "id": "tnxt1kcrWyUF"
      }
    },
    {
      "cell_type": "code",
      "source": [
        "import numpy\n",
        "import scipy.special # sigmoid function expit()\n",
        "import matplotlib.pyplot as plt\n",
        "from google.colab import drive\n",
        "drive.mount('/content/drive')\n",
        "%matplotlib inline"
      ],
      "metadata": {
        "colab": {
          "base_uri": "https://localhost:8080/"
        },
        "id": "GN55O47QZLNS",
        "outputId": "84afaee8-af26-442d-d245-9ef91d8d8ff7"
      },
      "execution_count": 122,
      "outputs": [
        {
          "output_type": "stream",
          "name": "stdout",
          "text": [
            "Drive already mounted at /content/drive; to attempt to forcibly remount, call drive.mount(\"/content/drive\", force_remount=True).\n"
          ]
        }
      ]
    },
    {
      "cell_type": "code",
      "source": [
        "# neural network class definition\n",
        "\n",
        "class neuralNetwork :\n",
        "  # initialise the neural network\n",
        "  def __init__( self, inputnodes, hiddennodes, outputnodes, learningrate) :\n",
        "    # set number of nodes in each input, hidden, output layer\n",
        "    self.inodes = inputnodes\n",
        "    self.hnodes = hiddennodes\n",
        "    self.onodes = outputnodes\n",
        "\n",
        "    # learningrate\n",
        "    self.lr = learningrate\n",
        "\n",
        "    # weights inside the arrays are w i j, where link is from node i to node j in the next layer\n",
        "    # w11 w21 etc \n",
        "    # self.wih = (numpy.random.rand(self.hnodes, self.inodes) - 0.5) # input-hidden 连接矩阵 \n",
        "    # self.wio = (numpy.random.rand(self.onodes, self.hnodes) - 0.5) # hidden-output 连接矩阵\n",
        "    # Example: input 5nodes, hidden 3nodes, output 4nodes\n",
        "    # answer： X = WI ,X 是hidden输入 I是input, W是input-hidden 连接矩阵 \n",
        "    #     I是 5行1列，X是3行1列,所以W是3行5列\n",
        "\n",
        "    # 也可以使用正态分布权重 平均值为0， 标准方差为节点传入连接数目的开方\n",
        "    self.wih = numpy.random.normal(0.0, pow(self.hnodes, -0.5), (self.hnodes, self.inodes)) # 正态分布中心设为0.0，标准方差 pow(self.hnodes, -0.5),\n",
        "    self.who = numpy.random.normal(0.0, pow(self.onodes, -0.5), (self.onodes, self.hnodes)) # 最后一个参数是numpy数组形状大小\n",
        "\n",
        "    # 激活函数 Sigmoid (activation function)\n",
        "    self.activation_function = lambda x: scipy.special.expit(x)\n",
        "\n",
        "    pass\n",
        "\n",
        "  # train the neural network\n",
        "  def train(self, inputs_list, targets_list) :\n",
        "\n",
        "    inputs = numpy.array(inputs_list, ndmin = 2).T \n",
        "    targets = numpy.array(targets_list, ndmin = 2).T \n",
        "    \n",
        "    # 正向传播\n",
        "    hidden_inputs = numpy.dot(self.wih, inputs)\n",
        "    hidden_outputs = self.activation_function(hidden_inputs)\n",
        "    final_inputs = numpy.dot(self.who, hidden_outputs)\n",
        "    final_outputs = self.activation_function(final_inputs)\n",
        "    \n",
        "    # 计算误差\n",
        "    output_errors = targets - final_outputs\n",
        "\n",
        "    # 反向传播\n",
        "    # errors(hidden) = W(hidden-output)(T) * errors(output)\n",
        "    hidden_errors = numpy.dot(self.who.T, output_errors)\n",
        "    # 更新权重 hidden-output layers\n",
        "    self.who += self.lr * numpy.dot((output_errors * final_outputs * (1.0 - final_outputs)), numpy.transpose(hidden_outputs))\n",
        "    # 更新权重 input-hidden layers\n",
        "    self.wih += self.lr * numpy.dot((hidden_errors * hidden_outputs * (1.0 - hidden_outputs)), numpy.transpose(inputs))\n",
        "\n",
        "    pass\n",
        "\n",
        "  # query the neural network\n",
        "  def query(self, inputs_list) :\n",
        "    # convert inputs list to 2d array\n",
        "    #print('input_list:' + str(inputs_list))\n",
        "    inputs = numpy.array(inputs_list, ndmin = 2).T # 这是干啥的？\n",
        "    #inputs2 = numpy.array(inputs_list, ndmin = 2)\n",
        "    #print('inputs:' + str(inputs))\n",
        "    #print('inputs2:' + str(inputs2))\n",
        "    # X(hidden) = W(input-hidden) * I\n",
        "    hidden_inputs = numpy.dot(self.wih, inputs)\n",
        "    # O(hidden) = Sigmoid(X(hidden))\n",
        "    hidden_outputs = self.activation_function(hidden_inputs)\n",
        "    # \n",
        "    final_inputs = numpy.dot(self.who, hidden_outputs)\n",
        "    #\n",
        "    final_outputs = self.activation_function(final_inputs)\n",
        "    \n",
        "    return final_outputs\n"
      ],
      "metadata": {
        "id": "oY7YwUIxW4xO"
      },
      "execution_count": 123,
      "outputs": []
    },
    {
      "cell_type": "markdown",
      "source": [
        "# 新段落"
      ],
      "metadata": {
        "id": "K5s8EsErsH65"
      }
    },
    {
      "cell_type": "code",
      "source": [
        "# number of input, hidden, output nodes\n",
        "input_nodes = 784\n",
        "hidden_nodes = 500\n",
        "output_nodes = 10\n",
        "# learningrate is 0.5\n",
        "learning_rate = 0.1\n",
        "\n",
        "# create instaance of neural network\n",
        "n = neuralNetwork(input_nodes, hidden_nodes, output_nodes, learning_rate)\n",
        "\n",
        "training_data_file = open(\"/content/drive/MyDrive/makeyourownneuralnetwork-master/mnist_dataset/mnist_train.csv\", 'r')\n",
        "training_data_list = training_data_file.readlines()\n",
        "training_data_file.close()\n",
        "\n",
        "epochs = 5\n",
        "for e in range(epochs):\n",
        "  for record in training_data_list:\n",
        "    all_values = record.split(',')\n",
        "    inputs = (numpy.asfarray(all_values[1:])/255.0 * 0.99) + 0.01\n",
        "    targets = numpy.zeros(output_nodes) + 0.01\n",
        "    targets[int(all_values[0])] = 0.99\n",
        "    n.train(inputs, targets)\n",
        "    pass\n",
        "  pass"
      ],
      "metadata": {
        "id": "2PbHvppfYGj_"
      },
      "execution_count": 124,
      "outputs": []
    },
    {
      "cell_type": "code",
      "source": [
        "test_data_file = open(\"/content/drive/MyDrive/makeyourownneuralnetwork-master/mnist_dataset/mnist_test.csv\", 'r')\n",
        "test_data_list = test_data_file.readlines()\n",
        "test_data_file.close()\n"
      ],
      "metadata": {
        "id": "7sstR_GAkS5I"
      },
      "execution_count": 125,
      "outputs": []
    },
    {
      "cell_type": "code",
      "source": [
        "all_values = test_data_list[0].split(',')\n",
        "print(all_values[0])"
      ],
      "metadata": {
        "colab": {
          "base_uri": "https://localhost:8080/"
        },
        "id": "Rsxa6NaNktfr",
        "outputId": "0ea6af77-0b84-4057-cdd8-c0074b16b3fa"
      },
      "execution_count": 126,
      "outputs": [
        {
          "output_type": "stream",
          "name": "stdout",
          "text": [
            "7\n"
          ]
        }
      ]
    },
    {
      "cell_type": "code",
      "source": [
        "image_array = numpy.asfarray(all_values[1:]).reshape((28,28))\n",
        "plt.imshow(image_array, cmap='Greys', interpolation= 'None')"
      ],
      "metadata": {
        "colab": {
          "base_uri": "https://localhost:8080/",
          "height": 283
        },
        "id": "P3ClgH0Mk_m7",
        "outputId": "8ebc9b83-4c4a-4c5f-890c-96042547d8fe"
      },
      "execution_count": 127,
      "outputs": [
        {
          "output_type": "execute_result",
          "data": {
            "text/plain": [
              "<matplotlib.image.AxesImage at 0x7fe3b8f113d0>"
            ]
          },
          "metadata": {},
          "execution_count": 127
        },
        {
          "output_type": "display_data",
          "data": {
            "text/plain": [
              "<Figure size 432x288 with 1 Axes>"
            ],
            "image/png": "[encoded data removed]"
          },
          "metadata": {
            "needs_background": "light"
          }
        }
      ]
    },
    {
      "cell_type": "code",
      "source": [
        "n.query((numpy.asfarray(all_values[1:])/ 255.0 * 0.99) + 0.01)"
      ],
      "metadata": {
        "colab": {
          "base_uri": "https://localhost:8080/"
        },
        "id": "CRJKvRXUlh7o",
        "outputId": "48e3e434-95a3-4ee8-ab69-bf390fa0b9ca"
      },
      "execution_count": 128,
      "outputs": [
        {
          "output_type": "execute_result",
          "data": {
            "text/plain": [
              "array([[0.01832627],\n",
              "       [0.00491104],\n",
              "       [0.01369272],\n",
              "       [0.00487896],\n",
              "       [0.00503701],\n",
              "       [0.01195954],\n",
              "       [0.00187938],\n",
              "       [0.99150695],\n",
              "       [0.0021698 ],\n",
              "       [0.00368542]])"
            ]
          },
          "metadata": {},
          "execution_count": 128
        }
      ]
    },
    {
      "cell_type": "code",
      "source": [
        "scorecard = []\n",
        "\n",
        "\n",
        "for record in test_data_list:\n",
        "  all_values = record.split(',')\n",
        "  correct_label = int(all_values[0])\n",
        "  #print(correct_label, \"correct_label\")\n",
        "  inputs = (numpy.asfarray(all_values[1:]) / 255.0 * 0.99) + 0.01\n",
        "  outputs = n.query(inputs)\n",
        "  label = numpy.argmax(outputs)\n",
        "  #print(label, \"network's answer\")\n",
        "  if (label == correct_label):\n",
        "    scorecard.append(1)\n",
        "  else:\n",
        "    scorecard.append(0)\n",
        "    pass\n",
        "  pass\n"
      ],
      "metadata": {
        "id": "_XjPscXUmIZv"
      },
      "execution_count": 129,
      "outputs": []
    },
    {
      "cell_type": "code",
      "source": [
        "scorecard_array = numpy.asarray(scorecard)\n",
        "print(\"performance = \",  scorecard_array.sum()/scorecard_array.size )\n"
      ],
      "metadata": {
        "colab": {
          "base_uri": "https://localhost:8080/"
        },
        "id": "7H1qGnySnnru",
        "outputId": "3d03156a-b160-4f50-af94-193d5c3702c4"
      },
      "execution_count": 130,
      "outputs": [
        {
          "output_type": "stream",
          "name": "stdout",
          "text": [
            "performance =  0.974\n"
          ]
        }
      ]
    },
    {
      "cell_type": "code",
      "source": [
        "# helper to load data from PNG image files\n",
        "import imageio\n",
        "# glob helps select multiple files using patterns\n",
        "import glob\n",
        "# our own image test data set\n",
        "our_own_dataset = []\n",
        "for image_file_name in glob.glob('/content/drive/MyDrive/makeyourownneuralnetwork-master/mnist_dataset/2828_my_own_?.png'):\n",
        "    print (\"loading ... \", image_file_name)\n",
        "    # use the filename to set the correct label\n",
        "    label = int(image_file_name[-5:-4])\n",
        "    # load image data from png files into an array\n",
        "    img_array = imageio.imread(image_file_name, as_gray=True)\n",
        "    # reshape from 28x28 to list of 784 values, invert values\n",
        "    img_data  = 255.0 - img_array.reshape(784)\n",
        "    # then scale data to range from 0.01 to 1.0\n",
        "    img_data = (img_data / 255.0 * 0.99) + 0.01\n",
        "    print(numpy.min(img_data))\n",
        "    print(numpy.max(img_data))\n",
        "    # append label and image data  to test data set\n",
        "    record = numpy.append(label,img_data)\n",
        "    #print(record)\n",
        "    our_own_dataset.append(record)\n",
        "    pass"
      ],
      "metadata": {
        "colab": {
          "base_uri": "https://localhost:8080/"
        },
        "id": "otjqvFru2Oku",
        "outputId": "693c0dce-db58-49e8-9bea-42ae01de9504"
      },
      "execution_count": 131,
      "outputs": [
        {
          "output_type": "stream",
          "name": "stdout",
          "text": [
            "loading ...  /content/drive/MyDrive/makeyourownneuralnetwork-master/mnist_dataset/2828_my_own_6.png\n",
            "0.01\n",
            "1.0\n",
            "loading ...  /content/drive/MyDrive/makeyourownneuralnetwork-master/mnist_dataset/2828_my_own_9.png\n",
            "0.01\n",
            "1.0\n",
            "loading ...  /content/drive/MyDrive/makeyourownneuralnetwork-master/mnist_dataset/2828_my_own_8.png\n",
            "0.01\n",
            "0.7864706\n",
            "loading ...  /content/drive/MyDrive/makeyourownneuralnetwork-master/mnist_dataset/2828_my_own_3.png\n",
            "0.01\n",
            "1.0\n",
            "loading ...  /content/drive/MyDrive/makeyourownneuralnetwork-master/mnist_dataset/2828_my_own_5.png\n",
            "0.01\n",
            "0.86800003\n",
            "loading ...  /content/drive/MyDrive/makeyourownneuralnetwork-master/mnist_dataset/2828_my_own_7.png\n",
            "0.01\n",
            "0.7787059\n",
            "loading ...  /content/drive/MyDrive/makeyourownneuralnetwork-master/mnist_dataset/2828_my_own_4.png\n",
            "0.01\n",
            "0.93011767\n",
            "loading ...  /content/drive/MyDrive/makeyourownneuralnetwork-master/mnist_dataset/2828_my_own_2.png\n",
            "0.01\n",
            "1.0\n"
          ]
        }
      ]
    },
    {
      "cell_type": "code",
      "source": [
        "# test the neural network with our own images\n",
        "\n",
        "# record to test\n",
        "item = 0\n",
        "\n",
        "# plot image\n",
        "plt.imshow(our_own_dataset[item][1:].reshape(28,28), cmap='Greys', interpolation='None')\n",
        "\n",
        "# correct answer is first value\n",
        "correct_label = our_own_dataset[item][0]\n",
        "# data is remaining values\n",
        "inputs = our_own_dataset[item][1:]\n",
        "\n",
        "# query the network\n",
        "outputs = n.query(inputs)\n",
        "print (outputs)\n",
        "\n",
        "# the index of the highest value corresponds to the label\n",
        "label = numpy.argmax(outputs)\n",
        "print(\"network says \", label)\n",
        "# append correct or incorrect to list\n",
        "if (label == correct_label):\n",
        "  print (\"match!\")\n",
        "else:\n",
        "  print (\"no match!\")\n",
        "  pass"
      ],
      "metadata": {
        "colab": {
          "base_uri": "https://localhost:8080/",
          "height": 481
        },
        "id": "xgJlRX1T3nAo",
        "outputId": "edb6cce3-b188-4f9a-da24-5f25bd697808"
      },
      "execution_count": 141,
      "outputs": [
        {
          "output_type": "stream",
          "name": "stdout",
          "text": [
            "[[0.00642868]\n",
            " [0.01635497]\n",
            " [0.00096942]\n",
            " [0.01221619]\n",
            " [0.00529255]\n",
            " [0.0730213 ]\n",
            " [0.48316179]\n",
            " [0.00647192]\n",
            " [0.00637659]\n",
            " [0.00295258]]\n",
            "network says  6\n",
            "match!\n"
          ]
        },
        {
          "output_type": "display_data",
          "data": {
            "text/plain": [
              "<Figure size 432x288 with 1 Axes>"
            ],
            "image/png": "[encoded data removed]"
          },
          "metadata": {
            "needs_background": "light"
          }
        }
      ]
    }
  ]
}